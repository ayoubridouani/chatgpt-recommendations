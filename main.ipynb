{
 "cells": [
  {
   "cell_type": "code",
   "execution_count": 1,
   "id": "9841dfaf",
   "metadata": {},
   "outputs": [],
   "source": [
    "from flask import Flask, request, jsonify\n",
    "from waitress import serve\n",
    "from mysql.connector import connect\n",
    "from email.mime.text import MIMEText\n",
    "from email.mime.multipart import MIMEMultipart\n",
    "from flask_cors import CORS, cross_origin\n",
    "\n",
    "import smtplib, ssl\n",
    "import openai\n",
    "import re"
   ]
  },
  {
   "cell_type": "code",
   "execution_count": 2,
   "id": "48007c3c",
   "metadata": {},
   "outputs": [],
   "source": [
    "env = 'development'\n",
    "# env = 'production'"
   ]
  },
  {
   "cell_type": "code",
   "execution_count": 3,
   "id": "75c1777b",
   "metadata": {},
   "outputs": [],
   "source": [
    "# DB Parameters\n",
    "if env == 'production':\n",
    "    user = ''\n",
    "    password = ''\n",
    "    host = ''\n",
    "    database = ''\n",
    "else:\n",
    "    user = 'root'\n",
    "    password = ''\n",
    "    host = 'localhost'\n",
    "    database = 'chatgpt_recommendations'"
   ]
  },
  {
   "cell_type": "code",
   "execution_count": 4,
   "id": "04c1e5ad",
   "metadata": {},
   "outputs": [],
   "source": [
    "# SMTP Parametrs\n",
    "if env == 'production':\n",
    "    smtp_port = \"\"\n",
    "    smtp_server = \"\"\n",
    "    sender_email = \"\"\n",
    "    smtp_password = \"\"\n",
    "else:\n",
    "    smtp_port = 465\n",
    "    smtp_server = \"smtp.gmail.com\"\n",
    "    sender_email = \"\"\n",
    "    smtp_password = \"\"\n",
    "context = ssl.create_default_context()"
   ]
  },
  {
   "cell_type": "code",
   "execution_count": 5,
   "id": "1d958926",
   "metadata": {},
   "outputs": [],
   "source": [
    "# CORS Prameters\n",
    "if env == 'production':\n",
    "    cors_allowed_urls = [\"https://www.example.com\"]\n",
    "else:\n",
    "    cors_allowed_urls = [\"http://localhost\"]"
   ]
  },
  {
   "cell_type": "code",
   "execution_count": 6,
   "id": "330511ac",
   "metadata": {},
   "outputs": [],
   "source": [
    "# OPENAI KEY\n",
    "if env == 'production':\n",
    "    api_key=\"\"\n",
    "else:\n",
    "    api_key=\"\""
   ]
  },
  {
   "cell_type": "code",
   "execution_count": 7,
   "id": "ec71dbaf",
   "metadata": {},
   "outputs": [],
   "source": [
    "app = Flask(__name__)\n",
    "cors = CORS(app)\n",
    "con = connect(host=host, database=database, user=user, password=password)"
   ]
  },
  {
   "cell_type": "code",
   "execution_count": 8,
   "id": "06187288",
   "metadata": {},
   "outputs": [],
   "source": [
    "# Create info table\n",
    "create_table = con.cursor()\n",
    "create_table.execute('''\n",
    "    CREATE TABLE IF NOT EXISTS `info` (\n",
    "      `id` int(11) NOT NULL AUTO_INCREMENT,\n",
    "      `query` varchar(255) DEFAULT NULL,\n",
    "      `email` varchar(255) DEFAULT NULL,\n",
    "      `query_id` varchar(255) DEFAULT NULL,\n",
    "      `chatbot_reply` text DEFAULT NULL,\n",
    "      `created_at` datetime DEFAULT current_timestamp(),\n",
    "      PRIMARY KEY (`id`)\n",
    "    ) ENGINE=InnoDB DEFAULT CHARSET=utf8 COLLATE=utf8_general_ci\n",
    "''')"
   ]
  },
  {
   "cell_type": "code",
   "execution_count": 9,
   "id": "210a3516",
   "metadata": {},
   "outputs": [],
   "source": [
    "def extractUserInfo(data):\n",
    "    query = data['query']\n",
    "    email = data['email']\n",
    "    queryId = data['queryId']\n",
    "    return query, email, queryId"
   ]
  },
  {
   "cell_type": "code",
   "execution_count": 10,
   "id": "c8a91626",
   "metadata": {},
   "outputs": [],
   "source": [
    "def getChatbotReply(query):\n",
    "    try:\n",
    "        client = openai.OpenAI(api_key=api_key)\n",
    "        response = client.chat.completions.create(\n",
    "            model=\"gpt-3.5-turbo\",\n",
    "            messages=[{\"role\": \"user\", \"content\": query}]\n",
    "        )\n",
    "        return True, response.choices[0].message.content.replace(\"\\n\", \"<br/>\")\n",
    "\n",
    "    except openai.APIError as e:\n",
    "      #Handle API error here, e.g. retry or log\n",
    "      return False, \"OpenAI API returned an API Error: \" + e.message\n",
    "    except openai.APIConnectionError as e:\n",
    "      #Handle connection error here\n",
    "      return False, \"Failed to connect to OpenAI API: \" + e.message\n",
    "    except openai.RateLimitError as e:\n",
    "      #Handle rate limit error (we recommend using exponential backoff)\n",
    "      return False, \"OpenAI API request exceeded rate limit: \" + e.message\n",
    "    except:\n",
    "        return False, 'Error during get response from chatbot.'"
   ]
  },
  {
   "cell_type": "code",
   "execution_count": 11,
   "id": "75a51890",
   "metadata": {},
   "outputs": [],
   "source": [
    "def save_info(query, email, queryId, chatbot_reply):\n",
    "    cursor = con.cursor()\n",
    "    cursor.execute((\"INSERT INTO info (query, email, query_id, chatbot_reply) VALUE (%s, %s, %s, %s)\"), (query, email, queryId, chatbot_reply))\n",
    "    con.commit()"
   ]
  },
  {
   "cell_type": "code",
   "execution_count": 12,
   "id": "770648fb",
   "metadata": {},
   "outputs": [],
   "source": [
    "def validate_email(email):\n",
    "    if re.match(r\"[^@]+@[^@]+\\.[^@]+\", email):\n",
    "        return True\n",
    "    return False"
   ]
  },
  {
   "cell_type": "code",
   "execution_count": 13,
   "id": "750ad14a",
   "metadata": {},
   "outputs": [],
   "source": [
    "def prepare_message(recommendations_list_from_chatbot, receiver_email):\n",
    "    message = MIMEMultipart(\"alternative\")\n",
    "    message[\"Subject\"] = \"ChatGPT Recommendations\"\n",
    "    message[\"From\"] = sender_email\n",
    "    message[\"To\"] = receiver_email\n",
    "\n",
    "    html = \"\"\"\\\n",
    "    <html>\n",
    "      <body>\n",
    "        <p>Thanks for using our bot.</p>\n",
    "        <p>Below are your recommended ideas and we hope the one(s) you choose bring joy and happiness to your loved one.</p>\n",
    "        <p>If you enjoyed this experience, please tell a friend about this <strong>Bot</strong>!</p>\n",
    "        <p>\"\"\"+recommendations_list_from_chatbot+\"\"\"</p>\n",
    "        <p>Happy Recommendations,</p>\n",
    "        <p>ChatGPT</p>\n",
    "      </body>\n",
    "    </html>\n",
    "    \"\"\"\n",
    "\n",
    "    message.attach(MIMEText(html, \"html\"))\n",
    "    \n",
    "    return message.as_string()"
   ]
  },
  {
   "cell_type": "code",
   "execution_count": 14,
   "id": "bc054711",
   "metadata": {},
   "outputs": [],
   "source": [
    "def notify_user(recommendations_list_from_chatbot, receiver_email):\n",
    "    if(validate_email(receiver_email)):\n",
    "        message = prepare_message(recommendations_list_from_chatbot, receiver_email)\n",
    "\n",
    "        with smtplib.SMTP_SSL(smtp_server, smtp_port, context=context) as server:\n",
    "            server.login(sender_email, smtp_password)\n",
    "            server.sendmail(sender_email, receiver_email, message)"
   ]
  },
  {
   "cell_type": "code",
   "execution_count": 15,
   "id": "f4abb727",
   "metadata": {},
   "outputs": [],
   "source": [
    "@app.route(\"/\", methods=['POST'])\n",
    "@cross_origin(cors_allowed_urls)\n",
    "def index():\n",
    "    query, email, queryId = extractUserInfo(request.get_json())\n",
    "    isChatBotSuccessfully, chatbot_reply = getChatbotReply(query)\n",
    "    save_info(query, email, queryId, chatbot_reply)\n",
    "    if isChatBotSuccessfully:\n",
    "        notify_user(chatbot_reply, email)\n",
    "        return jsonify({'error': 0, 'message': 'Thanks, the bot is researching the best recommendations for your loved one. You can check your email for the results.'})\n",
    "    else:\n",
    "        return jsonify({'error': 1, 'message': 'Uh oh, we ran into an error but our engineers are working on the issue. Please try again in 5 minutes.'})"
   ]
  },
  {
   "cell_type": "code",
   "execution_count": null,
   "id": "8ab14f94",
   "metadata": {},
   "outputs": [
    {
     "name": "stdout",
     "output_type": "stream",
     "text": [
      " * Serving Flask app '__main__'\n",
      " * Debug mode: off\n"
     ]
    },
    {
     "name": "stderr",
     "output_type": "stream",
     "text": [
      "WARNING: This is a development server. Do not use it in a production deployment. Use a production WSGI server instead.\n",
      " * Running on http://127.0.0.1:5000\n",
      "Press CTRL+C to quit\n",
      "127.0.0.1 - - [01/Dec/2023 19:35:15] \"OPTIONS / HTTP/1.1\" 200 -\n",
      "127.0.0.1 - - [01/Dec/2023 19:35:27] \"OPTIONS / HTTP/1.1\" 200 -\n",
      "127.0.0.1 - - [01/Dec/2023 19:35:30] \"POST / HTTP/1.1\" 200 -\n",
      "127.0.0.1 - - [01/Dec/2023 19:35:43] \"POST / HTTP/1.1\" 200 -\n",
      "127.0.0.1 - - [01/Dec/2023 19:40:19] \"OPTIONS / HTTP/1.1\" 200 -\n",
      "127.0.0.1 - - [01/Dec/2023 19:40:42] \"POST / HTTP/1.1\" 200 -\n"
     ]
    }
   ],
   "source": [
    "if __name__ == '__main__':\n",
    "    #serve(app, host=\"0.0.0.0\", port=8080)\n",
    "    app.run()\n",
    "    con.close()"
   ]
  },
  {
   "cell_type": "code",
   "execution_count": null,
   "id": "404c0ef4",
   "metadata": {},
   "outputs": [],
   "source": []
  }
 ],
 "metadata": {
  "kernelspec": {
   "display_name": "Python 3",
   "language": "python",
   "name": "python3"
  },
  "language_info": {
   "codemirror_mode": {
    "name": "ipython",
    "version": 3
   },
   "file_extension": ".py",
   "mimetype": "text/x-python",
   "name": "python",
   "nbconvert_exporter": "python",
   "pygments_lexer": "ipython3",
   "version": "3.10.9"
  }
 },
 "nbformat": 4,
 "nbformat_minor": 5
}
